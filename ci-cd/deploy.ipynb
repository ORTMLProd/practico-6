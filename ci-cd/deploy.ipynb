{
 "cells": [
  {
   "cell_type": "code",
   "execution_count": 1,
   "id": "6b2fb27b",
   "metadata": {
    "tags": []
   },
   "outputs": [
    {
     "name": "stdout",
     "output_type": "stream",
     "text": [
      "sagemaker.config INFO - Not applying SDK defaults from location: /etc/xdg/sagemaker/config.yaml\n",
      "sagemaker.config INFO - Not applying SDK defaults from location: /home/ec2-user/.config/sagemaker/config.yaml\n",
      "sagemaker.config INFO - Not applying SDK defaults from location: /etc/xdg/sagemaker/config.yaml\n",
      "sagemaker.config INFO - Not applying SDK defaults from location: /home/ec2-user/.config/sagemaker/config.yaml\n",
      "s3://zenpli-model-artifacts-sbx/artifacts/model.tar.gz\n",
      "259504422128.dkr.ecr.us-east-1.amazonaws.com/plata-model-registry:model-plata\n",
      "Created EndpointConfig: arn:aws:sagemaker:us-east-1:259504422128:endpoint-config/model-plata-cfg\n"
     ]
    }
   ],
   "source": [
    "import boto3\n",
    "import sagemaker\n",
    "import datetime\n",
    "from time import gmtime, strftime\n",
    "\n",
    "# Specify your AWS Region\n",
    "aws_region='us-east-1'\n",
    "account_id = 259504422128\n",
    "\n",
    "enviroment = 'sbx'\n",
    "repository_ecr = 'plata-model-registry'\n",
    "\n",
    "model_prefix = 'model-plata'\n",
    "model_name = f'{model_prefix}'\n",
    "\n",
    "#Create a variable w/ the model S3 URI\n",
    "s3_bucket = f'zenpli-model-artifacts-sbx' # Provide the name of your S3 bucket\n",
    "bucket_prefix='artifacts'\n",
    "model_id = f'model.tar.gz'\n",
    "model_s3_key = f\"{bucket_prefix}/{model_id}\"\n",
    "\n",
    "# Create a low-level SageMaker service client.\n",
    "\n",
    "sagemaker_client = boto3.client('sagemaker', region_name=aws_region)\n",
    "\n",
    "# Role to give SageMaker permission to access AWS services.\n",
    "sagemaker_role= sagemaker.get_execution_role()\n",
    "\n",
    "# Specify S3 bucket w/ model\n",
    "model_url = f\"s3://{s3_bucket}/{model_s3_key}\"\n",
    "print(model_url)\n",
    "\n",
    "# Specify an AWS container image. \n",
    "\n",
    "container = f'{account_id}.dkr.ecr.{aws_region}.amazonaws.com/{repository_ecr}:{model_name}' \n",
    "print(container)\n",
    "\n",
    "#container = '259504422128.dkr.ecr.us-east-1.amazonaws.com/plata-model-registry:model-plata'\n",
    "\n",
    "\n",
    "# Create Model \n",
    "\n",
    "create_model_response = sagemaker_client.create_model(\n",
    "    ModelName = model_name,\n",
    "    ExecutionRoleArn = sagemaker_role,\n",
    "    PrimaryContainer = {\n",
    "        'Image': container,\n",
    "        'ModelDataUrl': model_url,\n",
    "    })\n",
    "\n",
    "# Create Endpoint Configuration \n",
    "\n",
    "endpoint_config_name = f\"{model_name}-cfg\"\n",
    "\n",
    "endpoint_config_response = sagemaker_client.create_endpoint_config(\n",
    "    EndpointConfigName=endpoint_config_name, # You will specify this name in a CreateEndpoint request.\n",
    "    # List of ProductionVariant objects, one for each model that you want to host at this endpoint.\n",
    "    ProductionVariants=[\n",
    "        {\n",
    "            \"VariantName\": \"variant1\", # The name of the production variant.\n",
    "            \"ModelName\": model_name, \n",
    "            \"InstanceType\": \"ml.t2.medium\", # Specify the compute instance type.\n",
    "            \"InitialInstanceCount\": 1 # Number of instances to launch initially.\n",
    "        }\n",
    "    ]\n",
    ")\n",
    "\n",
    "print(f\"Created EndpointConfig: {endpoint_config_response['EndpointConfigArn']}\")\n",
    "\n",
    "endpoint_name = f'{model_prefix}-endpoint'\n",
    "\n",
    "create_endpoint_response = sagemaker_client.create_endpoint(\n",
    "                                            EndpointName=endpoint_name, \n",
    "                                            EndpointConfigName=endpoint_config_name) "
   ]
  },
  {
   "cell_type": "code",
   "execution_count": null,
   "id": "464a51e6",
   "metadata": {},
   "outputs": [],
   "source": []
  },
  {
   "cell_type": "code",
   "execution_count": null,
   "id": "f85f7f94-6644-43b1-b7c7-3e293a8929f1",
   "metadata": {},
   "outputs": [],
   "source": []
  }
 ],
 "metadata": {
  "kernelspec": {
   "display_name": "conda_python3",
   "language": "python",
   "name": "conda_python3"
  },
  "language_info": {
   "codemirror_mode": {
    "name": "ipython",
    "version": 3
   },
   "file_extension": ".py",
   "mimetype": "text/x-python",
   "name": "python",
   "nbconvert_exporter": "python",
   "pygments_lexer": "ipython3",
   "version": "3.10.12"
  }
 },
 "nbformat": 4,
 "nbformat_minor": 5
}
